{
 "cells": [
  {
   "cell_type": "markdown",
   "metadata": {},
   "source": [
    "# 1:泰波拿契數\n",
    "http://xzmdsa.openjudge.cn/hw1/1/"
   ]
  },
  {
   "cell_type": "code",
   "execution_count": 1,
   "metadata": {},
   "outputs": [
    {
     "name": "stdout",
     "output_type": "stream",
     "text": [
      "5\n",
      "7\n"
     ]
    }
   ],
   "source": [
    "n=int(input())\n",
    "\n",
    "def fib(n):\n",
    "    if n==0:\n",
    "         return 0\n",
    "    if n==1:\n",
    "         return 1\n",
    "    if n==2:\n",
    "         return 1\n",
    "    else:\n",
    "         return fib(n-1)+fib(n-2)+fib(n-3)\n",
    "        \n",
    "tn=fib(n)\n",
    "print(tn)\n"
   ]
  },
  {
   "cell_type": "markdown",
   "metadata": {},
   "source": [
    "# 2:字符串中的第一个不重复字符\n",
    "http://xzmdsa.openjudge.cn/hw1/2/"
   ]
  },
  {
   "cell_type": "code",
   "execution_count": 2,
   "metadata": {},
   "outputs": [
    {
     "name": "stdout",
     "output_type": "stream",
     "text": [
      "asdfasdfa\n",
      "-1\n"
     ]
    }
   ],
   "source": [
    "s=input()\n",
    "count=dict()\n",
    "for i in range(0,len(s)):\n",
    "    if s[i] not in count.keys():\n",
    "        count[s[i]]=list()\n",
    "        count[s[i]].append(i)\n",
    "    else:\n",
    "        count[s[i]].append(i)\n",
    "#print(count)\n",
    "no_single=1\n",
    "for element in count:\n",
    "    if len(count[element])==1:\n",
    "        no_single=0\n",
    "        print(count[element][0])\n",
    "        break;\n",
    "if no_single:\n",
    "    print(-1)"
   ]
  },
  {
   "cell_type": "markdown",
   "metadata": {},
   "source": [
    "# 3:矩形切割\n",
    "http://xzmdsa.openjudge.cn/hw1/3/"
   ]
  },
  {
   "cell_type": "code",
   "execution_count": 3,
   "metadata": {
    "scrolled": true
   },
   "outputs": [
    {
     "name": "stdout",
     "output_type": "stream",
     "text": [
      "5 4\n",
      "5\n"
     ]
    }
   ],
   "source": [
    "inputs=input().split(' ')\n",
    "x,y=int(inputs[0]),int(inputs[1]) \n",
    "\n",
    "def count_square(x,y):\n",
    "   \n",
    "    if x==y:\n",
    "        return 1\n",
    "    else:\n",
    "        large=max(x,y)\n",
    "        small=min(x,y)\n",
    "        \n",
    "        large=large-small\n",
    "        \n",
    "        return 1+count_square(large,small)\n",
    "print(count_square(x,y))"
   ]
  },
  {
   "cell_type": "markdown",
   "metadata": {},
   "source": [
    "# 4:Maximum 23 Number\n",
    "http://xzmdsa.openjudge.cn/hw1/4/"
   ]
  },
  {
   "cell_type": "code",
   "execution_count": 4,
   "metadata": {},
   "outputs": [
    {
     "name": "stdout",
     "output_type": "stream",
     "text": [
      "32323\n",
      "33323\n"
     ]
    }
   ],
   "source": [
    "print(input().replace(\"2\", \"3\",1))"
   ]
  },
  {
   "cell_type": "markdown",
   "metadata": {},
   "source": [
    "# 5:螺旋加密\n",
    "http://xzmdsa.openjudge.cn/hw1/5/"
   ]
  },
  {
   "cell_type": "code",
   "execution_count": 6,
   "metadata": {},
   "outputs": [
    {
     "name": "stdout",
     "output_type": "stream",
     "text": [
      "4 4 ACM\n",
      "0000110100101100"
     ]
    }
   ],
   "source": [
    "code= [\"00000\",\"00001\",\"00010\",\"00011\",\"00100\",\n",
    "    \"00101\",\"00110\",\"00111\",\"01000\",\"01001\",\"01010\",\"01011\",\n",
    "    \"01100\",\"01101\",\"01110\",\"01111\",\"10000\",\"10001\",\"10010\",\n",
    "    \"10011\",\"10100\",\"10101\",\"10110\",\"10111\",\"11000\",\"11001\",\"11010\"]\n",
    "inputs=input()\n",
    "row=int(inputs.split()[0])\n",
    "column=int(inputs.split()[1])\n",
    "string=inputs.split(' ',2)[2]\n",
    "targetstr=''\n",
    "\n",
    "for i in range(len(string)):\n",
    "    if string[i]==' ':\n",
    "        targetstr=targetstr+code[0]\n",
    "    else:\n",
    "        targetstr=targetstr+code[ord(string[i])-ord('A') + 1]\n",
    "    \n",
    "targetstr_length=len(targetstr)\n",
    "\n",
    "#print('targetstr:',targetstr)\n",
    "\n",
    "matrix = [[0 for j in range(column)] for i in range(row)]\n",
    "\n",
    "k=0\n",
    "\n",
    "if row==1:\n",
    "    i=0\n",
    "    for j in range (column):\n",
    "        if k>=targetstr_length:\n",
    "            matrix[i][j]=0\n",
    "        else:\n",
    "            matrix[i][j] = int(targetstr[k])\n",
    "            print(i,j,'number:',targetstr[k])\n",
    "            k += 1                    \n",
    "elif column==1:\n",
    "    j=0\n",
    "    for i in range (row):\n",
    "        if k>=targetstr_length:\n",
    "            matrix[i][j]=0\n",
    "        else:\n",
    "            matrix[i][j] = int(targetstr[k])\n",
    "            #print(i,j,'number:',targetstr[k])\n",
    "            k += 1      \n",
    "                \n",
    "else:\n",
    "    for i in range(row//2+1):\n",
    "            \n",
    "        for j in range(i, row-i): \n",
    "            if k>=targetstr_length:\n",
    "                matrix[i][j]=0\n",
    "            else:\n",
    "                matrix[i][j] = int(targetstr[k])\n",
    "                #print(i,j,'number:',targetstr[k])\n",
    "                k += 1                    \n",
    "        for j in range(i+1, column-i):\n",
    "            if k>=targetstr_length:\n",
    "                matrix[j][column-i-1]=0\n",
    "            else:\n",
    "                matrix[j][column-i-1] = int(targetstr[k])\n",
    "                #print(j,column-i-1,'number:',targetstr[k])\n",
    "                k += 1\n",
    "      \n",
    "        for j in range(row-i-2, i, -1):\n",
    "            if k>=targetstr_length:\n",
    "                matrix[row-i-1][j]=0\n",
    "            else:\n",
    "                matrix[row-i-1][j] = int(targetstr[k])\n",
    "                #print(row-i-1,j,'number:',targetstr[k])\n",
    "                k += 1\n",
    "        \n",
    "        for j in range(column-i-1, i, -1):\n",
    "            if k>=targetstr_length:\n",
    "                 matrix[j][i]=0\n",
    "            else:\n",
    "                matrix[j][i] = int(targetstr[k])\n",
    "                #print(j,i,'number:',targetstr[k])\n",
    "                k += 1   \n",
    "#print(\"matrix\",matrix)\n",
    "for i in matrix:\n",
    "        for j in i:\n",
    "            print(j,end=\"\")\n"
   ]
  },
  {
   "cell_type": "code",
   "execution_count": 7,
   "metadata": {},
   "outputs": [
    {
     "name": "stdout",
     "output_type": "stream",
     "text": [
      "4 4 ACM\n",
      "0000110100101100"
     ]
    }
   ],
   "source": [
    "code= [\"00000\",\"00001\",\"00010\",\"00011\",\"00100\",\n",
    "    \"00101\",\"00110\",\"00111\",\"01000\",\"01001\",\"01010\",\"01011\",\n",
    "    \"01100\",\"01101\",\"01110\",\"01111\",\"10000\",\"10001\",\"10010\",\n",
    "    \"10011\",\"10100\",\"10101\",\"10110\",\"10111\",\"11000\",\"11001\",\"11010\"]\n",
    "inputs=input()\n",
    "rows=int(inputs.split()[0])\n",
    "cols=int(inputs.split()[1])\n",
    "string=inputs.split(' ',2)[2]\n",
    "targetstr=''\n",
    "\n",
    "for i in range(len(string)):\n",
    "    if string[i]==' ':\n",
    "        targetstr=targetstr+code[0]\n",
    "    else:\n",
    "        targetstr=targetstr+code[ord(string[i])-ord('A') + 1]\n",
    "    \n",
    "targetstr_length=len(targetstr)\n",
    "\n",
    "#print('targetstr:',targetstr)\n",
    "\n",
    "matrix = [[0 for j in range(cols)] for i in range(rows)]\n",
    "\n",
    "cd, rd = 1, 0 \n",
    "   \n",
    "visited = [[False] * cols for _ in range(rows)]\n",
    "\n",
    "r, c = 0, 0\n",
    "elem_num = rows * cols\n",
    "\n",
    "for i in range(elem_num):\n",
    "        #print(r,c)\n",
    "        if i<targetstr_length:\n",
    "            matrix[r][c]=int(targetstr[i])\n",
    "        visited[r][c] = True\n",
    "\n",
    "        nr, nc = r + rd, c + cd\n",
    "        if 0 <= nr < rows and 0 <= nc < cols and not visited[nr][nc]:\n",
    "            r, c = nr, nc\n",
    "        else:\n",
    "            cd, rd = -rd, cd \n",
    "            r, c = r + rd, c + cd\n",
    "\n",
    "#print(\"matrix\",matrix)\n",
    "for i in matrix:\n",
    "        for j in i:\n",
    "            print(j,end=\"\")\n"
   ]
  },
  {
   "cell_type": "markdown",
   "metadata": {},
   "source": [
    "启示：一定要认真读题(\n",
    "只有一个空格隔开 意味着字符串可以以空格开头 并且可以字符串中有空格 因此不能用split（）括号内应该有split次数限制。"
   ]
  }
 ],
 "metadata": {
  "kernelspec": {
   "display_name": "Python 3",
   "language": "python",
   "name": "python3"
  },
  "language_info": {
   "codemirror_mode": {
    "name": "ipython",
    "version": 3
   },
   "file_extension": ".py",
   "mimetype": "text/x-python",
   "name": "python",
   "nbconvert_exporter": "python",
   "pygments_lexer": "ipython3",
   "version": "3.8.5"
  }
 },
 "nbformat": 4,
 "nbformat_minor": 4
}
