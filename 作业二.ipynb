{
 "cells": [
  {
   "cell_type": "markdown",
   "metadata": {},
   "source": [
    "# 1:位查询"
   ]
  },
  {
   "cell_type": "code",
   "execution_count": 38,
   "metadata": {},
   "outputs": [
    {
     "name": "stdout",
     "output_type": "stream",
     "text": [
      "3 5\n",
      "1 2 4\n",
      "Q 1\n",
      "1\n",
      "Q 2\n",
      "1\n",
      "C 1\n",
      "Q 1\n",
      "2\n",
      "Q 2\n",
      "1\n"
     ]
    }
   ],
   "source": [
    "n,m=map(int,input().split(\" \"))\n",
    "numlist=list(map(int,input().split(\" \")))\n",
    "for i in range(m):\n",
    "    inp=input()\n",
    "    op=inp.split(\" \")[0]\n",
    "    num=int(inp.split(\" \")[1])\n",
    "    if op=='C':\n",
    "        for i in range(len(numlist)):\n",
    "            numlist[i]=(numlist[i]+num)%65536\n",
    "    else:\n",
    "        cnt=0\n",
    "        for i in range(len(numlist)):\n",
    "            #print(bin(numlist[i])[::-1])\n",
    "            string=bin(numlist[i])[::-1]\n",
    "            if num>=(len(string)-2):\n",
    "                continue\n",
    "            if string[num]=='1':\n",
    "                cnt+=1\n",
    "        print(cnt)"
   ]
  },
  {
   "cell_type": "markdown",
   "metadata": {},
   "source": [
    "# 2:神奇的幻方"
   ]
  },
  {
   "cell_type": "code",
   "execution_count": 52,
   "metadata": {},
   "outputs": [
    {
     "name": "stdout",
     "output_type": "stream",
     "text": [
      "5\n",
      "47 58 69 80 1 12 23 34 45\n",
      "57 68 79 9 11 22 33 44 46\n",
      "67 78 8 10 21 32 43 54 56\n",
      "77 7 18 20 31 42 53 55 66\n",
      "6 17 19 30 41 52 63 65 76\n",
      "16 27 29 40 51 62 64 75 5\n",
      "26 28 39 50 61 72 74 4 15\n",
      "36 38 49 60 71 73 3 14 25\n",
      "37 48 59 70 81 2 13 24 35\n"
     ]
    }
   ],
   "source": [
    "def squre(n):\n",
    "    lists=[[0 for i in range(n)]for i in range(n)]\n",
    "    lists[0][n//2]=1\n",
    "    x=0\n",
    "    y=n//2\n",
    "    for i in range(2,n**2+1):\n",
    "        if x-1<0:\n",
    "            x=n-1\n",
    "        else:\n",
    "            x-=1\n",
    "        if y+1==n:\n",
    "            y=0\n",
    "        else:\n",
    "            y+=1\n",
    "        while 1:\n",
    "            if lists[x][y]==0:\n",
    "                lists[x][y]=i\n",
    "                break\n",
    "            else:\n",
    "                for a in range(n):\n",
    "                    for b in range(n):\n",
    "                        if lists[a][b]==i-1:\n",
    "                            before_x=a\n",
    "                            before_y=b\n",
    "                x=before_x+1\n",
    "                y=before_y\n",
    "                if x>n-1:\n",
    "                    x=0\n",
    "    for i in lists:\n",
    "        for j in range(len(i)):\n",
    "            if j!=len(i)-1:\n",
    "                print(i[j],end=' ')\n",
    "            else:\n",
    "                print(i[j])\n",
    "inp=int(input())\n",
    "squre(2*inp-1)\n"
   ]
  },
  {
   "cell_type": "markdown",
   "metadata": {},
   "source": [
    "# 3:最后的最后"
   ]
  },
  {
   "cell_type": "code",
   "execution_count": 15,
   "metadata": {},
   "outputs": [
    {
     "name": "stdout",
     "output_type": "stream",
     "text": [
      "10 2\n",
      "2 4 6 8 10 3 7 1 9"
     ]
    }
   ],
   "source": [
    "n,k=map(int,input().split())\n",
    "people = []\n",
    "for _ in range(n):\n",
    "    people.append(True)\n",
    "alive=n\n",
    "result = []\n",
    "num = 1\n",
    "while alive>1:\n",
    "    for index, p in enumerate(people):\n",
    "        if p:\n",
    "            if num == k:               \n",
    "                people[index] = False\n",
    "                result.append(index + 1)\n",
    "                num = 1\n",
    "                alive-=1\n",
    "            else:\n",
    "                num += 1\n",
    "for i in range(len(result)-1):\n",
    "    print(result[i],end=' ')\n",
    "print(result[-1],end='')"
   ]
  },
  {
   "cell_type": "code",
   "execution_count": 16,
   "metadata": {},
   "outputs": [
    {
     "name": "stdout",
     "output_type": "stream",
     "text": [
      "10 2\n",
      "0\n",
      "True\n",
      "1\n",
      "True\n",
      "2\n",
      "True\n",
      "3\n",
      "True\n",
      "4\n",
      "True\n",
      "5\n",
      "True\n",
      "6\n",
      "True\n",
      "7\n",
      "True\n",
      "8\n",
      "True\n",
      "9\n",
      "True\n"
     ]
    }
   ],
   "source": [
    "n,k=map(int,input().split())\n",
    "people = []\n",
    "for _ in range(n):\n",
    "    people.append(True)\n",
    "for index, p in enumerate(people):\n",
    "    print(index)\n",
    "    print(p)"
   ]
  },
  {
   "cell_type": "markdown",
   "metadata": {},
   "source": [
    "# 4:多项式加法"
   ]
  },
  {
   "cell_type": "code",
   "execution_count": 15,
   "metadata": {},
   "outputs": [
    {
     "name": "stdout",
     "output_type": "stream",
     "text": [
      "2\n",
      "-1 17 2 20 5 9 -7 7 10 4 22 2 -15 0 16 5 0 -1\n",
      "2 19 7 7 3 17 4 4 15 10 -10 5 13 2 -7 0 8 -8\n",
      "[ 2 20 ] [ 2 19 ] [ 2 17 ] [ 15 10 ] [ 5 9 ] [ 6 5 ] [ 14 4 ] [ 35 2 ] [ -22 0 ] \n",
      "-1 17 2 23 22 2 6 8 -4 7 -18 0 1 5 21 4 0 -1\n",
      "12 7 -7 5 3 17 23 4 15 10 -10 5 13 5 2 19 9 -7\n",
      "[ 2 23 ] [ 2 19 ] [ 2 17 ] [ 15 10 ] [ 6 8 ] [ 8 7 ] [ -3 5 ] [ 44 4 ] [ 22 2 ] [ -18 0 ] \n"
     ]
    }
   ],
   "source": [
    "from collections import defaultdict\n",
    "def def_0():\n",
    "    return 0\n",
    "\n",
    "n=int(input())\n",
    "for _ in range(n): \n",
    "    poly = defaultdict(def_0)\n",
    "    string1=input().split()[0:-2]\n",
    "    string2=input().split()[0:-2]\n",
    "    for i in range(0,len(string1),2):\n",
    "        #print(i)\n",
    "        poly[int(string1[i+1])]+=int(string1[i])\n",
    "    for i in range(0,len(string2),2):\n",
    "        poly[int(string2[i+1])]+=int(string2[i])\n",
    "    sort=sorted(poly.items(), key=lambda d: d[0],reverse=True)\n",
    "    for pair in sort:\n",
    "        if pair[1]!=0:\n",
    "            print(\"[ %d %d ]\"%(pair[1],pair[0]),end=\" \")\n",
    "    print()"
   ]
  },
  {
   "cell_type": "markdown",
   "metadata": {},
   "source": [
    "# 5:肿瘤面积"
   ]
  },
  {
   "cell_type": "code",
   "execution_count": null,
   "metadata": {},
   "outputs": [],
   "source": [
    "n = int(input())        \n",
    "global array\n",
    "array= [[0]*n]*n      \n",
    "for i in range(n):\n",
    "    lst=input().split()      \n",
    "    array[i] = [int(j) for j in lst]\n",
    "row1=0\n",
    "row2=1\n",
    "col1=0\n",
    "col2=1\n",
    "for i in range(n):\n",
    "    for j in range(n):\n",
    "        if i<=n-2 and j<=n-2:\n",
    "            if array[i][j]==0 and array[i+1][j]==0 and array[i][j+1]==0 and array[i+1][j+1]==255:\n",
    "                row1=i\n",
    "                col1=j\n",
    "        if i>=1 and j>=1:\n",
    "            if array[i][j]==0 and array[i-1][j]==0 and array[i][j-1]==0 and array[i-1][j-1]==255:\n",
    "                row2=i\n",
    "                col2=j\n",
    "print((row2-row1-1)*(col2-col1-1))     "
   ]
  }
 ],
 "metadata": {
  "kernelspec": {
   "display_name": "Python 3",
   "language": "python",
   "name": "python3"
  },
  "language_info": {
   "codemirror_mode": {
    "name": "ipython",
    "version": 3
   },
   "file_extension": ".py",
   "mimetype": "text/x-python",
   "name": "python",
   "nbconvert_exporter": "python",
   "pygments_lexer": "ipython3",
   "version": "3.8.5"
  }
 },
 "nbformat": 4,
 "nbformat_minor": 4
}
